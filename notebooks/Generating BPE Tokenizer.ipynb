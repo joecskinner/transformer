{
 "cells": [
  {
   "cell_type": "markdown",
   "id": "2bf53e50-2daf-468c-82d3-f3771ea48df0",
   "metadata": {},
   "source": [
    "# Generating BPE Tokenizer"
   ]
  },
  {
   "cell_type": "markdown",
   "id": "f87c204b-4a67-440b-81e0-d2656cd6a9e0",
   "metadata": {},
   "source": [
    "> Sentences were encoded using byte-pair encoding, which has a shared source-target vocabulary of about 37000 tokens.\n",
    ">\n",
    ">\n",
    "> — [*Attention Is All You Need* by Vaswani et al. (2017)](https://arxiv.org/abs/1706.03762)\n",
    "\n",
    "Key details:\n",
    "* A single BPE tokenizer was used for both the source and target. We will do the same.\n",
    "* The vocabulary size was 37000. In our case we are going to limit our vocabularly to 8000 tokens."
   ]
  },
  {
   "cell_type": "markdown",
   "id": "f69200fa-0fcb-44af-95dd-52aa00a07a0a",
   "metadata": {},
   "source": [
    "## Imports"
   ]
  },
  {
   "cell_type": "code",
   "execution_count": 20,
   "id": "949a52bb-1ab9-4fc4-8ef6-7036cb1cb73b",
   "metadata": {},
   "outputs": [],
   "source": [
    "import sys\n",
    "import os\n",
    "\n",
    "import tensorflow as tf\n",
    "import tensorflow_text as text\n",
    "import tensorflow_datasets as tfds\n",
    "\n",
    "root_path = os.path.abspath(os.path.join('..'))\n",
    "if root_path not in sys.path:\n",
    "    sys.path.append(root_path)\n",
    "\n",
    "import src.utils.byte_pair_encoding_tokenizer as bpe"
   ]
  },
  {
   "cell_type": "markdown",
   "id": "a3db5ad7-ad6d-45d6-b828-61a87e4df74f",
   "metadata": {},
   "source": [
    "## Download the dataset"
   ]
  },
  {
   "cell_type": "code",
   "execution_count": 21,
   "id": "7367e981-d619-461f-9af5-ec9b1b9b3048",
   "metadata": {},
   "outputs": [],
   "source": [
    "dataset, _ = tfds.load('ted_hrlr_translate/pt_to_en', with_info=True)"
   ]
  },
  {
   "cell_type": "markdown",
   "id": "24ca798b-beab-45ae-a1e1-70b605670d3c",
   "metadata": {},
   "source": [
    "## Generate a corpus\n",
    "\n",
    "As the tokenizer vocabulary is shared between the source and target, we are going to create a corpus from our dataset that includes both the source and targets."
   ]
  },
  {
   "cell_type": "code",
   "execution_count": 22,
   "id": "ecd56bff-34b6-4594-a080-23b37b03c03e",
   "metadata": {},
   "outputs": [],
   "source": [
    "corpus_generator = (\n",
    "    sentence.decode('utf-8')  # Decoding bytes to string\n",
    "    for example in dataset['train']\n",
    "    for sentence in (example['pt'].numpy(), example['en'].numpy())\n",
    ")"
   ]
  },
  {
   "cell_type": "markdown",
   "id": "e5a5103c-a214-4317-9df2-6aad09130565",
   "metadata": {},
   "source": [
    "## Generate vocabulary and merge rules"
   ]
  },
  {
   "cell_type": "code",
   "execution_count": null,
   "id": "eb74dc1a-9b6e-4bd6-b32b-0464a5db0546",
   "metadata": {},
   "outputs": [],
   "source": [
    "vocab, merge_rules = bpe.bpe_from_dataset(\n",
    "    corpus_generator,\n",
    "    8000,\n",
    "    [\"[PAD]\", \"[UNK]\", \"[START]\", \"[END]\"]\n",
    ")"
   ]
  },
  {
   "cell_type": "markdown",
   "id": "338c9ca2-9051-4125-87d6-9183848b27e6",
   "metadata": {},
   "source": [
    "## Save vocabulary and merge rules"
   ]
  },
  {
   "cell_type": "code",
   "execution_count": null,
   "id": "43b16aba-6c43-4f66-9852-2cef0db5437d",
   "metadata": {},
   "outputs": [],
   "source": [
    "bpe.save(\"bpe_tokenizers/ted_hrlr_translate_pt_to_en\", vocab, merge_rules)"
   ]
  }
 ],
 "metadata": {
  "kernelspec": {
   "display_name": "Python 3 (ipykernel)",
   "language": "python",
   "name": "python3"
  },
  "language_info": {
   "codemirror_mode": {
    "name": "ipython",
    "version": 3
   },
   "file_extension": ".py",
   "mimetype": "text/x-python",
   "name": "python",
   "nbconvert_exporter": "python",
   "pygments_lexer": "ipython3",
   "version": "3.10.12"
  }
 },
 "nbformat": 4,
 "nbformat_minor": 5
}
